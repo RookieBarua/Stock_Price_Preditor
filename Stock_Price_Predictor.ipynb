{
  "nbformat": 4,
  "nbformat_minor": 0,
  "metadata": {
    "colab": {
      "name": "Stock Price Predictor.ipynb",
      "provenance": []
    },
    "kernelspec": {
      "name": "python3",
      "display_name": "Python 3"
    }
  },
  "cells": [
    {
      "cell_type": "code",
      "metadata": {
        "id": "1MuIsrAW7Fck",
        "colab_type": "code",
        "outputId": "56ca63e8-bc24-4c85-8889-fa6ec64f4aeb",
        "colab": {
          "base_uri": "https://localhost:8080/",
          "height": 79
        }
      },
      "source": [
        "import math\n",
        "import numpy as np\n",
        "import pandas as pd\n",
        "import pandas_datareader as web\n",
        "import matplotlib.pyplot as plt\n",
        "from sklearn.preprocessing import MinMaxScaler\n",
        "from keras.models import Sequential\n",
        "from keras.layers import Dense, LSTM"
      ],
      "execution_count": 0,
      "outputs": [
        {
          "output_type": "stream",
          "text": [
            "Using TensorFlow backend.\n"
          ],
          "name": "stderr"
        },
        {
          "output_type": "display_data",
          "data": {
            "text/html": [
              "<p style=\"color: red;\">\n",
              "The default version of TensorFlow in Colab will soon switch to TensorFlow 2.x.<br>\n",
              "We recommend you <a href=\"https://www.tensorflow.org/guide/migrate\" target=\"_blank\">upgrade</a> now \n",
              "or ensure your notebook will continue to use TensorFlow 1.x via the <code>%tensorflow_version 1.x</code> magic:\n",
              "<a href=\"https://colab.research.google.com/notebooks/tensorflow_version.ipynb\" target=\"_blank\">more info</a>.</p>\n"
            ],
            "text/plain": [
              "<IPython.core.display.HTML object>"
            ]
          },
          "metadata": {
            "tags": []
          }
        }
      ]
    },
    {
      "cell_type": "code",
      "metadata": {
        "id": "2o8tbpZO8C66",
        "colab_type": "code",
        "outputId": "277afe77-661a-4b86-ac52-76734cc66223",
        "colab": {
          "base_uri": "https://localhost:8080/",
          "height": 431
        }
      },
      "source": [
        "ds = web.DataReader('AAPL', data_source='yahoo', start='2008-01-01', end='2020-03-06')\n",
        "\n",
        "ds"
      ],
      "execution_count": 0,
      "outputs": [
        {
          "output_type": "execute_result",
          "data": {
            "text/html": [
              "<div>\n",
              "<style scoped>\n",
              "    .dataframe tbody tr th:only-of-type {\n",
              "        vertical-align: middle;\n",
              "    }\n",
              "\n",
              "    .dataframe tbody tr th {\n",
              "        vertical-align: top;\n",
              "    }\n",
              "\n",
              "    .dataframe thead th {\n",
              "        text-align: right;\n",
              "    }\n",
              "</style>\n",
              "<table border=\"1\" class=\"dataframe\">\n",
              "  <thead>\n",
              "    <tr style=\"text-align: right;\">\n",
              "      <th></th>\n",
              "      <th>High</th>\n",
              "      <th>Low</th>\n",
              "      <th>Open</th>\n",
              "      <th>Close</th>\n",
              "      <th>Volume</th>\n",
              "      <th>Adj Close</th>\n",
              "    </tr>\n",
              "    <tr>\n",
              "      <th>Date</th>\n",
              "      <th></th>\n",
              "      <th></th>\n",
              "      <th></th>\n",
              "      <th></th>\n",
              "      <th></th>\n",
              "      <th></th>\n",
              "    </tr>\n",
              "  </thead>\n",
              "  <tbody>\n",
              "    <tr>\n",
              "      <th>2008-01-02</th>\n",
              "      <td>28.608572</td>\n",
              "      <td>27.507143</td>\n",
              "      <td>28.467142</td>\n",
              "      <td>27.834286</td>\n",
              "      <td>269794700.0</td>\n",
              "      <td>24.161295</td>\n",
              "    </tr>\n",
              "    <tr>\n",
              "      <th>2008-01-03</th>\n",
              "      <td>28.198572</td>\n",
              "      <td>27.527143</td>\n",
              "      <td>27.915714</td>\n",
              "      <td>27.847143</td>\n",
              "      <td>210516600.0</td>\n",
              "      <td>24.172449</td>\n",
              "    </tr>\n",
              "    <tr>\n",
              "      <th>2008-01-04</th>\n",
              "      <td>27.571428</td>\n",
              "      <td>25.555714</td>\n",
              "      <td>27.350000</td>\n",
              "      <td>25.721428</td>\n",
              "      <td>363958000.0</td>\n",
              "      <td>22.327251</td>\n",
              "    </tr>\n",
              "    <tr>\n",
              "      <th>2008-01-07</th>\n",
              "      <td>26.228571</td>\n",
              "      <td>24.318571</td>\n",
              "      <td>25.892857</td>\n",
              "      <td>25.377142</td>\n",
              "      <td>518048300.0</td>\n",
              "      <td>22.028393</td>\n",
              "    </tr>\n",
              "    <tr>\n",
              "      <th>2008-01-08</th>\n",
              "      <td>26.065714</td>\n",
              "      <td>24.400000</td>\n",
              "      <td>25.734285</td>\n",
              "      <td>24.464285</td>\n",
              "      <td>380954000.0</td>\n",
              "      <td>21.235991</td>\n",
              "    </tr>\n",
              "    <tr>\n",
              "      <th>...</th>\n",
              "      <td>...</td>\n",
              "      <td>...</td>\n",
              "      <td>...</td>\n",
              "      <td>...</td>\n",
              "      <td>...</td>\n",
              "      <td>...</td>\n",
              "    </tr>\n",
              "    <tr>\n",
              "      <th>2020-03-02</th>\n",
              "      <td>301.440002</td>\n",
              "      <td>277.720001</td>\n",
              "      <td>282.279999</td>\n",
              "      <td>298.809998</td>\n",
              "      <td>85349300.0</td>\n",
              "      <td>298.809998</td>\n",
              "    </tr>\n",
              "    <tr>\n",
              "      <th>2020-03-03</th>\n",
              "      <td>304.000000</td>\n",
              "      <td>285.799988</td>\n",
              "      <td>303.670013</td>\n",
              "      <td>289.320007</td>\n",
              "      <td>79868900.0</td>\n",
              "      <td>289.320007</td>\n",
              "    </tr>\n",
              "    <tr>\n",
              "      <th>2020-03-04</th>\n",
              "      <td>303.399994</td>\n",
              "      <td>293.130005</td>\n",
              "      <td>296.440002</td>\n",
              "      <td>302.739990</td>\n",
              "      <td>54794600.0</td>\n",
              "      <td>302.739990</td>\n",
              "    </tr>\n",
              "    <tr>\n",
              "      <th>2020-03-05</th>\n",
              "      <td>299.549988</td>\n",
              "      <td>291.410004</td>\n",
              "      <td>295.519989</td>\n",
              "      <td>292.920013</td>\n",
              "      <td>46893200.0</td>\n",
              "      <td>292.920013</td>\n",
              "    </tr>\n",
              "    <tr>\n",
              "      <th>2020-03-06</th>\n",
              "      <td>290.820007</td>\n",
              "      <td>281.230011</td>\n",
              "      <td>282.000000</td>\n",
              "      <td>289.029999</td>\n",
              "      <td>56491800.0</td>\n",
              "      <td>289.029999</td>\n",
              "    </tr>\n",
              "  </tbody>\n",
              "</table>\n",
              "<p>3066 rows × 6 columns</p>\n",
              "</div>"
            ],
            "text/plain": [
              "                  High         Low  ...       Volume   Adj Close\n",
              "Date                                ...                         \n",
              "2008-01-02   28.608572   27.507143  ...  269794700.0   24.161295\n",
              "2008-01-03   28.198572   27.527143  ...  210516600.0   24.172449\n",
              "2008-01-04   27.571428   25.555714  ...  363958000.0   22.327251\n",
              "2008-01-07   26.228571   24.318571  ...  518048300.0   22.028393\n",
              "2008-01-08   26.065714   24.400000  ...  380954000.0   21.235991\n",
              "...                ...         ...  ...          ...         ...\n",
              "2020-03-02  301.440002  277.720001  ...   85349300.0  298.809998\n",
              "2020-03-03  304.000000  285.799988  ...   79868900.0  289.320007\n",
              "2020-03-04  303.399994  293.130005  ...   54794600.0  302.739990\n",
              "2020-03-05  299.549988  291.410004  ...   46893200.0  292.920013\n",
              "2020-03-06  290.820007  281.230011  ...   56491800.0  289.029999\n",
              "\n",
              "[3066 rows x 6 columns]"
            ]
          },
          "metadata": {
            "tags": []
          },
          "execution_count": 2
        }
      ]
    },
    {
      "cell_type": "code",
      "metadata": {
        "id": "pANUEWjC9BX9",
        "colab_type": "code",
        "outputId": "b2c58129-12b7-42aa-b58f-d906d927bd0d",
        "colab": {
          "base_uri": "https://localhost:8080/",
          "height": 634
        }
      },
      "source": [
        "plt.figure(figsize=(16,8))\n",
        "plt.title(\"Close Price\")\n",
        "plt.plot(ds[\"Close\"])\n",
        "plt.xlabel('Date')\n",
        "plt.ylabel(\"Price in $\")\n",
        "plt.show()"
      ],
      "execution_count": 0,
      "outputs": [
        {
          "output_type": "stream",
          "text": [
            "/usr/local/lib/python3.6/dist-packages/pandas/plotting/_matplotlib/converter.py:103: FutureWarning: Using an implicitly registered datetime converter for a matplotlib plotting method. The converter was registered by pandas on import. Future versions of pandas will require you to explicitly register matplotlib converters.\n",
            "\n",
            "To register the converters:\n",
            "\t>>> from pandas.plotting import register_matplotlib_converters\n",
            "\t>>> register_matplotlib_converters()\n",
            "  warnings.warn(msg, FutureWarning)\n"
          ],
          "name": "stderr"
        },
        {
          "output_type": "display_data",
          "data": {
            "image/png": "[encoded data removed]",
            "text/plain": [
              "<Figure size 1152x576 with 1 Axes>"
            ]
          },
          "metadata": {
            "tags": []
          }
        }
      ]
    },
    {
      "cell_type": "code",
      "metadata": {
        "id": "kYJbZpWE9iET",
        "colab_type": "code",
        "outputId": "f8b0b94e-6dd7-4dd8-9c39-b3e0f0d21518",
        "colab": {
          "base_uri": "https://localhost:8080/",
          "height": 34
        }
      },
      "source": [
        "data = ds.filter(['Close'])\n",
        "\n",
        "dataset = data.values\n",
        "\n",
        "training_data_len = math.ceil(len(dataset) * 0.8)\n",
        "\n",
        "training_data_len"
      ],
      "execution_count": 0,
      "outputs": [
        {
          "output_type": "execute_result",
          "data": {
            "text/plain": [
              "2453"
            ]
          },
          "metadata": {
            "tags": []
          },
          "execution_count": 5
        }
      ]
    },
    {
      "cell_type": "code",
      "metadata": {
        "id": "0iL4QQav-6_7",
        "colab_type": "code",
        "outputId": "40924d77-91e8-4ea9-98cb-98024cf07bd9",
        "colab": {
          "base_uri": "https://localhost:8080/",
          "height": 134
        }
      },
      "source": [
        "scaler = MinMaxScaler(feature_range=(0,1))\n",
        "scaled_data = scaler.fit_transform(dataset)\n",
        "\n",
        "scaled_data"
      ],
      "execution_count": 0,
      "outputs": [
        {
          "output_type": "execute_result",
          "data": {
            "text/plain": [
              "array([[0.05272579],\n",
              "       [0.05276648],\n",
              "       [0.04604014],\n",
              "       ...,\n",
              "       [0.92260187],\n",
              "       [0.8915288 ],\n",
              "       [0.87921974]])"
            ]
          },
          "metadata": {
            "tags": []
          },
          "execution_count": 6
        }
      ]
    },
    {
      "cell_type": "code",
      "metadata": {
        "id": "pH9Aa0R4AjXn",
        "colab_type": "code",
        "outputId": "381041c7-2340-4256-b084-d578fa29d93c",
        "colab": {
          "base_uri": "https://localhost:8080/",
          "height": 672
        }
      },
      "source": [
        "train_data = scaled_data[0:training_data_len , :]\n",
        "\n",
        "x_train = []\n",
        "y_train = []\n",
        "\n",
        "for i in range(60, len(train_data)):\n",
        "  x_train.append(train_data[i-60:i, 0])\n",
        "  y_train.append(train_data[i, 0])\n",
        "  if i<=61:\n",
        "    print(x_train)\n",
        "    print(y_train)\n",
        "    print()"
      ],
      "execution_count": 0,
      "outputs": [
        {
          "output_type": "stream",
          "text": [
            "[array([0.05272579, 0.05276648, 0.04604014, 0.04495072, 0.0420622 ,\n",
            "       0.04574631, 0.0451225 , 0.04271313, 0.04546605, 0.04106319,\n",
            "       0.03681403, 0.03737908, 0.03759153, 0.03500587, 0.0275156 ,\n",
            "       0.02594702, 0.02342012, 0.02342012, 0.02411175, 0.02440105,\n",
            "       0.02583853, 0.02511075, 0.02416147, 0.0231263 , 0.01979929,\n",
            "       0.01945574, 0.02137239, 0.02316698, 0.02109212, 0.02314438,\n",
            "       0.02226742, 0.02098815, 0.01988066, 0.02062201, 0.01959136,\n",
            "       0.01865111, 0.01877769, 0.01851099, 0.02023325, 0.02337492,\n",
            "       0.02116445, 0.01967724, 0.02098363, 0.02092487, 0.01931561,\n",
            "       0.0199123 , 0.01875509, 0.0222177 , 0.02162101, 0.02248441,\n",
            "       0.02188319, 0.02193744, 0.02469035, 0.02326643, 0.02489377,\n",
            "       0.02772353, 0.02837899, 0.0302233 , 0.028049  , 0.02929663])]\n",
            "[0.029518125276774408]\n",
            "\n",
            "[array([0.05272579, 0.05276648, 0.04604014, 0.04495072, 0.0420622 ,\n",
            "       0.04574631, 0.0451225 , 0.04271313, 0.04546605, 0.04106319,\n",
            "       0.03681403, 0.03737908, 0.03759153, 0.03500587, 0.0275156 ,\n",
            "       0.02594702, 0.02342012, 0.02342012, 0.02411175, 0.02440105,\n",
            "       0.02583853, 0.02511075, 0.02416147, 0.0231263 , 0.01979929,\n",
            "       0.01945574, 0.02137239, 0.02316698, 0.02109212, 0.02314438,\n",
            "       0.02226742, 0.02098815, 0.01988066, 0.02062201, 0.01959136,\n",
            "       0.01865111, 0.01877769, 0.01851099, 0.02023325, 0.02337492,\n",
            "       0.02116445, 0.01967724, 0.02098363, 0.02092487, 0.01931561,\n",
            "       0.0199123 , 0.01875509, 0.0222177 , 0.02162101, 0.02248441,\n",
            "       0.02188319, 0.02193744, 0.02469035, 0.02326643, 0.02489377,\n",
            "       0.02772353, 0.02837899, 0.0302233 , 0.028049  , 0.02929663]), array([0.05276648, 0.04604014, 0.04495072, 0.0420622 , 0.04574631,\n",
            "       0.0451225 , 0.04271313, 0.04546605, 0.04106319, 0.03681403,\n",
            "       0.03737908, 0.03759153, 0.03500587, 0.0275156 , 0.02594702,\n",
            "       0.02342012, 0.02342012, 0.02411175, 0.02440105, 0.02583853,\n",
            "       0.02511075, 0.02416147, 0.0231263 , 0.01979929, 0.01945574,\n",
            "       0.02137239, 0.02316698, 0.02109212, 0.02314438, 0.02226742,\n",
            "       0.02098815, 0.01988066, 0.02062201, 0.01959136, 0.01865111,\n",
            "       0.01877769, 0.01851099, 0.02023325, 0.02337492, 0.02116445,\n",
            "       0.01967724, 0.02098363, 0.02092487, 0.01931561, 0.0199123 ,\n",
            "       0.01875509, 0.0222177 , 0.02162101, 0.02248441, 0.02188319,\n",
            "       0.02193744, 0.02469035, 0.02326643, 0.02489377, 0.02772353,\n",
            "       0.02837899, 0.0302233 , 0.028049  , 0.02929663, 0.02951813])]\n",
            "[0.029518125276774408, 0.032243920535116925]\n",
            "\n"
          ],
          "name": "stdout"
        }
      ]
    },
    {
      "cell_type": "code",
      "metadata": {
        "id": "VSn5DlnpByMi",
        "colab_type": "code",
        "colab": {}
      },
      "source": [
        "# convert to numy array to train lstm model \n",
        "x_train, y_train = np.array(x_train), np.array(y_train)"
      ],
      "execution_count": 0,
      "outputs": []
    },
    {
      "cell_type": "code",
      "metadata": {
        "id": "sqtGgWbYEQcP",
        "colab_type": "code",
        "outputId": "aa502243-3cc0-4a0b-a05e-027578b5d352",
        "colab": {
          "base_uri": "https://localhost:8080/",
          "height": 34
        }
      },
      "source": [
        "# reshape the data as lstm model expects 3d input and rn its 2d (no of features = 1 'closing price')\n",
        "x_train = np.reshape(x_train, (x_train.shape[0], x_train.shape[1], 1))\n",
        "x_train.shape"
      ],
      "execution_count": 0,
      "outputs": [
        {
          "output_type": "execute_result",
          "data": {
            "text/plain": [
              "(2393, 60, 1)"
            ]
          },
          "metadata": {
            "tags": []
          },
          "execution_count": 9
        }
      ]
    },
    {
      "cell_type": "code",
      "metadata": {
        "id": "3wLNcOXbE48b",
        "colab_type": "code",
        "outputId": "8ade5356-73e6-4201-8842-ec4765510cbf",
        "colab": {
          "base_uri": "https://localhost:8080/",
          "height": 138
        }
      },
      "source": [
        "model = Sequential()\n",
        "model.add(LSTM(50, return_sequences=True, input_shape = (x_train.shape[1], 1)))\n",
        "model.add(LSTM(50, return_sequences= False))\n",
        "model.add(Dense(25))\n",
        "model.add(Dense(1))"
      ],
      "execution_count": 0,
      "outputs": [
        {
          "output_type": "stream",
          "text": [
            "WARNING:tensorflow:From /usr/local/lib/python3.6/dist-packages/keras/backend/tensorflow_backend.py:66: The name tf.get_default_graph is deprecated. Please use tf.compat.v1.get_default_graph instead.\n",
            "\n",
            "WARNING:tensorflow:From /usr/local/lib/python3.6/dist-packages/keras/backend/tensorflow_backend.py:541: The name tf.placeholder is deprecated. Please use tf.compat.v1.placeholder instead.\n",
            "\n",
            "WARNING:tensorflow:From /usr/local/lib/python3.6/dist-packages/keras/backend/tensorflow_backend.py:4432: The name tf.random_uniform is deprecated. Please use tf.random.uniform instead.\n",
            "\n"
          ],
          "name": "stdout"
        }
      ]
    },
    {
      "cell_type": "code",
      "metadata": {
        "id": "-nJq5cEoG0iD",
        "colab_type": "code",
        "outputId": "3a8e7cc9-4593-4bd4-cf4e-00bf26f5b341",
        "colab": {
          "base_uri": "https://localhost:8080/",
          "height": 50
        }
      },
      "source": [
        "# optimizers are used to improve upon the loss func \n",
        "# loss func is used to measure how well the model did on training\n",
        "model.compile(optimizer= 'adam', loss= 'mean_squared_error')"
      ],
      "execution_count": 0,
      "outputs": [
        {
          "output_type": "stream",
          "text": [
            "WARNING:tensorflow:From /usr/local/lib/python3.6/dist-packages/keras/optimizers.py:793: The name tf.train.Optimizer is deprecated. Please use tf.compat.v1.train.Optimizer instead.\n",
            "\n"
          ],
          "name": "stdout"
        }
      ]
    },
    {
      "cell_type": "code",
      "metadata": {
        "id": "tHBWGFWvH6_T",
        "colab_type": "code",
        "outputId": "e91caa94-4d8e-4623-d895-3a3e589d977f",
        "colab": {
          "base_uri": "https://localhost:8080/",
          "height": 406
        }
      },
      "source": [
        "# fit another name for train\n",
        "# batch size is the total no of training examples present in a single batch\n",
        "# epochs is the number of iterations when an entire dataset is passed \n",
        "model.fit(x_train, y_train, batch_size= 1, epochs= 1)"
      ],
      "execution_count": 0,
      "outputs": [
        {
          "output_type": "stream",
          "text": [
            "WARNING:tensorflow:From /usr/local/lib/python3.6/dist-packages/tensorflow_core/python/ops/math_grad.py:1424: where (from tensorflow.python.ops.array_ops) is deprecated and will be removed in a future version.\n",
            "Instructions for updating:\n",
            "Use tf.where in 2.0, which has the same broadcast rule as np.where\n",
            "WARNING:tensorflow:From /usr/local/lib/python3.6/dist-packages/keras/backend/tensorflow_backend.py:1033: The name tf.assign_add is deprecated. Please use tf.compat.v1.assign_add instead.\n",
            "\n",
            "WARNING:tensorflow:From /usr/local/lib/python3.6/dist-packages/keras/backend/tensorflow_backend.py:1020: The name tf.assign is deprecated. Please use tf.compat.v1.assign instead.\n",
            "\n",
            "WARNING:tensorflow:From /usr/local/lib/python3.6/dist-packages/keras/backend/tensorflow_backend.py:3005: The name tf.Session is deprecated. Please use tf.compat.v1.Session instead.\n",
            "\n",
            "Epoch 1/1\n",
            "WARNING:tensorflow:From /usr/local/lib/python3.6/dist-packages/keras/backend/tensorflow_backend.py:190: The name tf.get_default_session is deprecated. Please use tf.compat.v1.get_default_session instead.\n",
            "\n",
            "WARNING:tensorflow:From /usr/local/lib/python3.6/dist-packages/keras/backend/tensorflow_backend.py:197: The name tf.ConfigProto is deprecated. Please use tf.compat.v1.ConfigProto instead.\n",
            "\n",
            "WARNING:tensorflow:From /usr/local/lib/python3.6/dist-packages/keras/backend/tensorflow_backend.py:207: The name tf.global_variables is deprecated. Please use tf.compat.v1.global_variables instead.\n",
            "\n",
            "WARNING:tensorflow:From /usr/local/lib/python3.6/dist-packages/keras/backend/tensorflow_backend.py:216: The name tf.is_variable_initialized is deprecated. Please use tf.compat.v1.is_variable_initialized instead.\n",
            "\n",
            "WARNING:tensorflow:From /usr/local/lib/python3.6/dist-packages/keras/backend/tensorflow_backend.py:223: The name tf.variables_initializer is deprecated. Please use tf.compat.v1.variables_initializer instead.\n",
            "\n",
            "2393/2393 [==============================] - 180s 75ms/step - loss: 2.7174e-04\n"
          ],
          "name": "stdout"
        },
        {
          "output_type": "execute_result",
          "data": {
            "text/plain": [
              "<keras.callbacks.History at 0x7f5fc7f296d8>"
            ]
          },
          "metadata": {
            "tags": []
          },
          "execution_count": 12
        }
      ]
    },
    {
      "cell_type": "code",
      "metadata": {
        "id": "ELo2bSeBI2Co",
        "colab_type": "code",
        "colab": {}
      },
      "source": [
        "test_data = scaled_data[training_data_len - 60: , :]\n",
        "\n",
        "x_test = []\n",
        "y_test = dataset[training_data_len:, :]\n",
        "for i in range(60, len(test_data)):\n",
        "  x_test.append(test_data[i-60:i, 0])"
      ],
      "execution_count": 0,
      "outputs": []
    },
    {
      "cell_type": "code",
      "metadata": {
        "id": "ZIsFCSz2KjLT",
        "colab_type": "code",
        "colab": {}
      },
      "source": [
        "x_test = np.array(x_test)"
      ],
      "execution_count": 0,
      "outputs": []
    },
    {
      "cell_type": "code",
      "metadata": {
        "id": "7X9jSu2FKrtT",
        "colab_type": "code",
        "colab": {}
      },
      "source": [
        "x_test = np.reshape(x_test, (x_test.shape[0], x_test.shape[1], 1))"
      ],
      "execution_count": 0,
      "outputs": []
    },
    {
      "cell_type": "code",
      "metadata": {
        "id": "gkYpDUE3LYKb",
        "colab_type": "code",
        "colab": {}
      },
      "source": [
        "predictions = model.predict(x_test)\n",
        "pridictions = scaler.inverse_transform(predictions)"
      ],
      "execution_count": 0,
      "outputs": []
    },
    {
      "cell_type": "code",
      "metadata": {
        "id": "0hHCL9-gLwIL",
        "colab_type": "code",
        "outputId": "fab3615e-3dad-4509-c298-4fe3299c4775",
        "colab": {
          "base_uri": "https://localhost:8080/",
          "height": 34
        }
      },
      "source": [
        "# root mean squared error = measure of how accurate the model predicts the response \n",
        "# rmse = np.sqrt(np.mean(predictions - y_test)**2)\n",
        "rmse = np.sqrt(np.mean(((predictions - y_test)**2)))\n",
        "rmse = np.sqrt(np.mean(np.power((np.array(y_test)-np.array(predictions)),2)))\n",
        "rmse = np.sqrt(((predictions - y_test) ** 2).mean())\n",
        "rmse"
      ],
      "execution_count": 0,
      "outputs": [
        {
          "output_type": "execute_result",
          "data": {
            "text/plain": [
              "207.09476425229437"
            ]
          },
          "metadata": {
            "tags": []
          },
          "execution_count": 17
        }
      ]
    },
    {
      "cell_type": "code",
      "metadata": {
        "id": "1ez-FDHyMd4w",
        "colab_type": "code",
        "outputId": "09eb86ad-6793-4055-847a-4039d3fea067",
        "colab": {
          "base_uri": "https://localhost:8080/",
          "height": 614
        }
      },
      "source": [
        "train = data[:training_data_len]\n",
        "valid = data[training_data_len:]\n",
        "valid['Predictions'] = predictions\n",
        "\n",
        "plt.figure(figsize=(16,8))\n",
        "plt.title('Model')\n",
        "plt.xlabel(\"Date\")\n",
        "plt.ylabel(\"Price in INR\")\n",
        "plt.plot(train['Close'])\n",
        "plt.plot(valid[['Close', 'Predictions']])\n",
        "plt.legend(['Train', 'Validation', 'Predictions'], loc= 'lower right')\n",
        "plt.show()"
      ],
      "execution_count": 0,
      "outputs": [
        {
          "output_type": "stream",
          "text": [
            "/usr/local/lib/python3.6/dist-packages/ipykernel_launcher.py:3: SettingWithCopyWarning: \n",
            "A value is trying to be set on a copy of a slice from a DataFrame.\n",
            "Try using .loc[row_indexer,col_indexer] = value instead\n",
            "\n",
            "See the caveats in the documentation: http://pandas.pydata.org/pandas-docs/stable/user_guide/indexing.html#returning-a-view-versus-a-copy\n",
            "  This is separate from the ipykernel package so we can avoid doing imports until\n"
          ],
          "name": "stderr"
        },
        {
          "output_type": "display_data",
          "data": {
            "image/png": "[encoded data removed]",
            "text/plain": [
              "<Figure size 1152x576 with 1 Axes>"
            ]
          },
          "metadata": {
            "tags": []
          }
        }
      ]
    },
    {
      "cell_type": "code",
      "metadata": {
        "id": "TUlSYOWAOPEh",
        "colab_type": "code",
        "outputId": "d47ba412-6aa7-4e24-f1a6-df3bdcc72b83",
        "colab": {
          "base_uri": "https://localhost:8080/",
          "height": 431
        }
      },
      "source": [
        "valid"
      ],
      "execution_count": 0,
      "outputs": [
        {
          "output_type": "execute_result",
          "data": {
            "text/html": [
              "<div>\n",
              "<style scoped>\n",
              "    .dataframe tbody tr th:only-of-type {\n",
              "        vertical-align: middle;\n",
              "    }\n",
              "\n",
              "    .dataframe tbody tr th {\n",
              "        vertical-align: top;\n",
              "    }\n",
              "\n",
              "    .dataframe thead th {\n",
              "        text-align: right;\n",
              "    }\n",
              "</style>\n",
              "<table border=\"1\" class=\"dataframe\">\n",
              "  <thead>\n",
              "    <tr style=\"text-align: right;\">\n",
              "      <th></th>\n",
              "      <th>Close</th>\n",
              "      <th>Predictions</th>\n",
              "    </tr>\n",
              "    <tr>\n",
              "      <th>Date</th>\n",
              "      <th></th>\n",
              "      <th></th>\n",
              "    </tr>\n",
              "  </thead>\n",
              "  <tbody>\n",
              "    <tr>\n",
              "      <th>2017-09-28</th>\n",
              "      <td>153.279999</td>\n",
              "      <td>0.431783</td>\n",
              "    </tr>\n",
              "    <tr>\n",
              "      <th>2017-09-29</th>\n",
              "      <td>154.119995</td>\n",
              "      <td>0.430879</td>\n",
              "    </tr>\n",
              "    <tr>\n",
              "      <th>2017-10-02</th>\n",
              "      <td>153.809998</td>\n",
              "      <td>0.430676</td>\n",
              "    </tr>\n",
              "    <tr>\n",
              "      <th>2017-10-03</th>\n",
              "      <td>154.479996</td>\n",
              "      <td>0.430699</td>\n",
              "    </tr>\n",
              "    <tr>\n",
              "      <th>2017-10-04</th>\n",
              "      <td>153.479996</td>\n",
              "      <td>0.431101</td>\n",
              "    </tr>\n",
              "    <tr>\n",
              "      <th>...</th>\n",
              "      <td>...</td>\n",
              "      <td>...</td>\n",
              "    </tr>\n",
              "    <tr>\n",
              "      <th>2020-03-02</th>\n",
              "      <td>298.809998</td>\n",
              "      <td>0.852750</td>\n",
              "    </tr>\n",
              "    <tr>\n",
              "      <th>2020-03-03</th>\n",
              "      <td>289.320007</td>\n",
              "      <td>0.846847</td>\n",
              "    </tr>\n",
              "    <tr>\n",
              "      <th>2020-03-04</th>\n",
              "      <td>302.739990</td>\n",
              "      <td>0.843530</td>\n",
              "    </tr>\n",
              "    <tr>\n",
              "      <th>2020-03-05</th>\n",
              "      <td>292.920013</td>\n",
              "      <td>0.847871</td>\n",
              "    </tr>\n",
              "    <tr>\n",
              "      <th>2020-03-06</th>\n",
              "      <td>289.029999</td>\n",
              "      <td>0.850721</td>\n",
              "    </tr>\n",
              "  </tbody>\n",
              "</table>\n",
              "<p>613 rows × 2 columns</p>\n",
              "</div>"
            ],
            "text/plain": [
              "                 Close  Predictions\n",
              "Date                               \n",
              "2017-09-28  153.279999     0.431783\n",
              "2017-09-29  154.119995     0.430879\n",
              "2017-10-02  153.809998     0.430676\n",
              "2017-10-03  154.479996     0.430699\n",
              "2017-10-04  153.479996     0.431101\n",
              "...                ...          ...\n",
              "2020-03-02  298.809998     0.852750\n",
              "2020-03-03  289.320007     0.846847\n",
              "2020-03-04  302.739990     0.843530\n",
              "2020-03-05  292.920013     0.847871\n",
              "2020-03-06  289.029999     0.850721\n",
              "\n",
              "[613 rows x 2 columns]"
            ]
          },
          "metadata": {
            "tags": []
          },
          "execution_count": 19
        }
      ]
    },
    {
      "cell_type": "code",
      "metadata": {
        "id": "FyB1ReUjSdSR",
        "colab_type": "code",
        "colab": {}
      },
      "source": [
        ""
      ],
      "execution_count": 0,
      "outputs": []
    }
  ]
}